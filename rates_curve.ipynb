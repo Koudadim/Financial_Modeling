{
 "cells": [
  {
   "cell_type": "markdown",
   "id": "81f2cb35",
   "metadata": {},
   "source": [
    "# Courbe des taux"
   ]
  },
  {
   "cell_type": "markdown",
   "id": "c2d7a65d",
   "metadata": {},
   "source": [
    "## Courbe des taux avec la méthode boostrapping"
   ]
  },
  {
   "cell_type": "code",
   "execution_count": 2,
   "id": "9f42b297",
   "metadata": {},
   "outputs": [],
   "source": [
    "import numpy as np\n",
    "import pandas as pd"
   ]
  },
  {
   "cell_type": "code",
   "execution_count": 125,
   "id": "d4d29bed",
   "metadata": {},
   "outputs": [],
   "source": [
    "data = np.array([[100, 0.25, 0, 97.5],\n",
    "                [100, 0.5, 0, 94.9],\n",
    "                [100, 1.0, 0, 90.0],\n",
    "                [100, 1.5, 0.08, 98.0],\n",
    "                [100, 2.0, 0.12, 99]])\n",
    "                "
   ]
  },
  {
   "cell_type": "code",
   "execution_count": 126,
   "id": "8fa63b6e",
   "metadata": {},
   "outputs": [
    {
     "data": {
      "text/plain": [
       "array([[1.00e+02, 2.50e-01, 0.00e+00, 9.75e+01],\n",
       "       [1.00e+02, 5.00e-01, 0.00e+00, 9.49e+01],\n",
       "       [1.00e+02, 1.00e+00, 0.00e+00, 9.00e+01],\n",
       "       [1.00e+02, 1.50e+00, 8.00e-02, 9.80e+01],\n",
       "       [1.00e+02, 2.00e+00, 1.20e-01, 9.90e+01]])"
      ]
     },
     "execution_count": 126,
     "metadata": {},
     "output_type": "execute_result"
    }
   ],
   "source": [
    "data"
   ]
  },
  {
   "cell_type": "code",
   "execution_count": 127,
   "id": "6b208f67",
   "metadata": {},
   "outputs": [
    {
     "name": "stdout",
     "output_type": "stream",
     "text": [
      "       0     1     2     3\n",
      "0  100.0  0.25  0.00  97.5\n",
      "1  100.0  0.50  0.00  94.9\n",
      "2  100.0  1.00  0.00  90.0\n",
      "3  100.0  1.50  0.08  98.0\n",
      "4  100.0  2.00  0.12  99.0\n"
     ]
    }
   ],
   "source": [
    "# Transformation des données en dataframe\n",
    "\n",
    "rates = pd.DataFrame(data=data)\n",
    "print(rates)"
   ]
  },
  {
   "cell_type": "code",
   "execution_count": 130,
   "id": "35db632b",
   "metadata": {},
   "outputs": [
    {
     "name": "stdout",
     "output_type": "stream",
     "text": [
      "         principal  maturité  taux_coupon  prix\n",
      "titre 1      100.0      0.25         0.00  97.5\n",
      "titre 2      100.0      0.50         0.00  94.9\n",
      "titre 3      100.0      1.00         0.00  90.0\n",
      "titre 4      100.0      1.50         0.08  98.0\n",
      "titre 5      100.0      2.00         0.12  99.0\n"
     ]
    }
   ],
   "source": [
    "# Noms des colonnes et étiquettes des lignes\n",
    "lines_labels = ['titre 1', 'titre 2', 'titre 3', 'titre 4', 'titre 5']\n",
    "columns_names = ['principal', 'maturité', 'taux_coupon', 'prix']\n",
    "\n",
    "bonds_data = pd.DataFrame(data=data, index=lines_labels, columns=columns_names)\n",
    "print(bonds_data)"
   ]
  },
  {
   "cell_type": "code",
   "execution_count": 131,
   "id": "4d0dc9cd",
   "metadata": {},
   "outputs": [],
   "source": [
    "def CalculTauxZC(bonds_data):\n",
    "    TauxZC=[]\n",
    "    mat = []                              # Pour retenir les maturités < à la maturité courante T dans la boule suivante.\n",
    "    lines = [i  for i in range (len(bonds_data.index))]                   # Liste des numéros de ligne \n",
    "    \n",
    "    for T, l in zip(bonds_data['maturité'], lines) :  \n",
    "        som_cf=0\n",
    "        VN = bonds_data['principal'][l]          # valeur nominale\n",
    "        P = bonds_data['prix'][l]                # Prix\n",
    "        rT = bonds_data['taux_coupon'][l]               # taux de coupon correspondant à l'obligation de maturité T\n",
    "        C=VN*rT                                        # VN*rT est le coupon de l'obligation de maturité T\n",
    "        \n",
    "        if T<=1 :\n",
    "            t=T\n",
    "            rt = (1+rT)**t -1      # Le taux de coupons correspondant à la fraction de temps t\n",
    "            RT = (VN*(1+rt) / P)**(1/t)-1\n",
    "            TauxZC.append(RT)\n",
    "        else :\n",
    "            som_cf=bonds_data['prix'][l]                  # somme de cash flows actualisés\n",
    "            t = T-int(T)                                  # t est une fraction d'années\n",
    "            \n",
    "            if t!=0.0 :\n",
    "                rt = (1+rT)**t - 1                  # Le taux de coupons correspondant à la fraction de temps t           \n",
    "                som_cf-= ( VN*rt / P )**(1/t)               \n",
    "                for i in range(0, int(T)) :\n",
    "                    som_cf -= (C / ((1+TauxZC[i])**(i+t)))  \n",
    "            else :\n",
    "                for i in range(1, int(T)) :\n",
    "                    som_cf -= (C / ((1+TauxZC[i])**(i+t)))\n",
    "            \n",
    "            A=(VN+C) / som_cf\n",
    "            q=1/T\n",
    "            RT = A**q - 1\n",
    "            TauxZC.append(RT)\n",
    "            \n",
    "    return TauxZC\n",
    "        \n",
    "        "
   ]
  },
  {
   "cell_type": "code",
   "execution_count": 132,
   "id": "441e59a2",
   "metadata": {},
   "outputs": [],
   "source": [
    "TauxZC = CalculTauxZC(bonds_data)\n",
    "Maturités = bonds_data['maturité']\n",
    "\n",
    "MaturityAndTauxZC = np.array([Maturités, TauxZC])"
   ]
  },
  {
   "cell_type": "code",
   "execution_count": 133,
   "id": "9f43ffb4",
   "metadata": {},
   "outputs": [
    {
     "data": {
      "text/plain": [
       "array([[0.25      , 0.5       , 1.        , 1.5       , 2.        ],\n",
       "       [0.10657674, 0.11036963, 0.11111111, 0.1259645 , 0.12691841]])"
      ]
     },
     "execution_count": 133,
     "metadata": {},
     "output_type": "execute_result"
    }
   ],
   "source": [
    "MaturityAndTauxZC"
   ]
  },
  {
   "cell_type": "code",
   "execution_count": 134,
   "id": "74d85c42",
   "metadata": {},
   "outputs": [
    {
     "name": "stdout",
     "output_type": "stream",
     "text": [
      "[[0.25       0.10657674]\n",
      " [0.5        0.11036963]\n",
      " [1.         0.11111111]\n",
      " [1.5        0.1259645 ]\n",
      " [2.         0.12691841]]\n"
     ]
    }
   ],
   "source": [
    "MaturityAndTauxZC = MaturityAndTauxZC.transpose()\n",
    "print(MaturityAndTauxZC)"
   ]
  },
  {
   "cell_type": "code",
   "execution_count": 135,
   "id": "ec8cce09",
   "metadata": {},
   "outputs": [],
   "source": [
    "import matplotlib.pyplot as plt"
   ]
  },
  {
   "cell_type": "code",
   "execution_count": 136,
   "id": "95dcb99c",
   "metadata": {},
   "outputs": [
    {
     "data": {
      "image/png": "[encoded data removed]",
      "text/plain": [
       "<Figure size 800x800 with 1 Axes>"
      ]
     },
     "metadata": {},
     "output_type": "display_data"
    }
   ],
   "source": [
    "plt.figure(figsize = (8, 8)) # crée un graphique vide, permet de définir la taille de notre figure\n",
    "plt.plot(MaturityAndTauxZC[:, 0], MaturityAndTauxZC[: ,1], \n",
    "         label = 'Courbe des taux zéro-coupon construite avec la méthode Boostapping')  \n",
    "# Ajout d'une légende et noms des axes\n",
    "plt.xlabel('Maturités')\n",
    "plt.ylabel('Taux zéro-coupon')\n",
    "plt.legend() # Définie par le paramètre label dans les fonctions\n",
    "plt.show() # Affichage de la figure, cette ligne peut être néglidée dans une notebook"
   ]
  }
 ],
 "metadata": {
  "kernelspec": {
   "display_name": "Python 3 (ipykernel)",
   "language": "python",
   "name": "python3"
  },
  "language_info": {
   "codemirror_mode": {
    "name": "ipython",
    "version": 3
   },
   "file_extension": ".py",
   "mimetype": "text/x-python",
   "name": "python",
   "nbconvert_exporter": "python",
   "pygments_lexer": "ipython3",
   "version": "3.9.13"
  }
 },
 "nbformat": 4,
 "nbformat_minor": 5
}
