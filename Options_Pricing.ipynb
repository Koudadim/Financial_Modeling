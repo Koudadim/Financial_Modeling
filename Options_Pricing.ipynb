{
 "cells": [
  {
   "cell_type": "markdown",
   "id": "a76d6bc0",
   "metadata": {},
   "source": [
    "# Evaluation et couverture des produits dérivés"
   ]
  },
  {
   "cell_type": "markdown",
   "id": "13d032ed",
   "metadata": {},
   "source": [
    "## Modèle binomial à une période"
   ]
  },
  {
   "cell_type": "raw",
   "id": "df29cc71",
   "metadata": {},
   "source": [
    "On considère un marché à deux actifs (actif risqué S et actif non risqué) et à deux temps (0, 1).\n",
    "Le taux d'intérêt sans risque est r.\n",
    "A la date t=1, l'actif risqué ne peut prendre que deux valeurs : S1_up = u.S0 si l'tat du monde à cette date est 'up' et S1_down = d.S0 sinon; avec d < 1+r < u <=> Il n'existe pas d'opportunité d'arbitrage <=> Il existe une proba risque neutre\n",
    " \n",
    "On structure un produit dérivé D sur l'actif risqué S. \n",
    "\n",
    "Objectif : Evaluation et couverture du produit dérivé. "
   ]
  },
  {
   "cell_type": "raw",
   "id": "a37ddb26",
   "metadata": {},
   "source": [
    "Tout produit dérivé D est duplicable par une stratégie de portefeuille autofinançante simple (x, delta) où x désigne le capital initial investi dans delta actifs risqués S, sous-jacent du produit dérivé dont on cherche à évaluer, et dans l'actif non-risqué. "
   ]
  },
  {
   "cell_type": "raw",
   "id": "054aa48a",
   "metadata": {},
   "source": [
    "Notations:\n",
    "Kc : strike d'un Call\n",
    "Kp : strike d'un Put\n",
    "S0 : valeur du sous-jacent à la date 0\n",
    "u : multiplicateur de S0 pour donner le prix de S en cas de hausse\n",
    "d : multiplicateur de S0 pour donner le prix de S en cas de baisse"
   ]
  },
  {
   "cell_type": "code",
   "execution_count": 32,
   "id": "8fc1b28a",
   "metadata": {},
   "outputs": [],
   "source": [
    "def PricingOptions(S0, r, u, d, Kc, Kp) :\n",
    "    \n",
    "    # Les payoff pour tous les états du monde possibles\n",
    "    call_payoff_up = max(u*S0-Kc, 0)\n",
    "    call_payoff_down = max(d*S0-Kc, 0)\n",
    "    put_payoff_up = max(Kp-u*S0, 0)\n",
    "    put_payoff_down = max(Kp-d*S0, 0)\n",
    "    \n",
    "    # Les primes pour tous les états du monde possibles\n",
    "    q = (1+r-d)/(u-d)\n",
    "    call_price = ( 1/(1+r) ) * ( q*call_payoff_up + (1-q)*call_payoff_down )\n",
    "    put_price = ( 1/(1+r) ) * ( q*put_payoff_up + (1-q)*put_payoff_down )\n",
    "    prices = {\"Call.Price\" : call_price, \"Put.Price\" : put_price}\n",
    "    \n",
    "    # Portefeuille autofinaçant (x, delta) de couverture\n",
    "    call_delta = ( call_payoff_up - call_payoff_down ) / ( (u-d)*S0 )\n",
    "    put_delta = ( put_payoff_up - put_payoff_down ) / ( (u-d)*S0 )\n",
    "    call_portfolio = {'Initial.Capital' : call_price, 'Risqued.Asset.Quantity' : call_delta}\n",
    "    put_portfolio = {'Initial.Capital' : put_price, 'Risqued.Asset.Quantity' : put_delta}\n",
    "    \n",
    "    Prices_And_Portfolios = {'Premiums' : prices, 'Call.Duplication.Portfolio' : call_portfolio, \n",
    "                           'Put.Duplication.Portfolio' : put_portfolio}\n",
    "    return Prices_And_Portfolios"
   ]
  },
  {
   "cell_type": "code",
   "execution_count": 33,
   "id": "df3a61af",
   "metadata": {},
   "outputs": [
    {
     "name": "stdout",
     "output_type": "stream",
     "text": [
      "{'Premiums': {'Call.Price': 7.142857142857152, 'Put.Price': 2.380952380952382}, 'Call.Duplication.Portfolio': {'Initial.Capital': 7.142857142857152, 'Risqued.Asset.Quantity': 0.5000000000000006}, 'Put.Duplication.Portfolio': {'Initial.Capital': 2.380952380952382, 'Risqued.Asset.Quantity': -0.49999999999999983}}\n"
     ]
    }
   ],
   "source": [
    "Prices_And_Portfolios = PricingOptions(100, 0.05, 1.1, 0.9, 100, 100) # Call et put à la monnaie sur un même actif risqué.\n",
    "print(Prices_And_Portfolios)"
   ]
  },
  {
   "cell_type": "raw",
   "id": "26bf5521",
   "metadata": {},
   "source": [
    "STRATEGIE DE COUVERTURE A ADOPTER POUR LE :\n",
    "\n",
    "1. CALL : achat de 0.5 actif risqué et investissement de  (7.14 − 0.5*100 = -42.06) dans l'actif sans risque. Autrement, on emprunte 42.06 pour acheter l'actif risqué.\n",
    "\n",
    "2. PUT : Vente à découvert de 0.5 actif risqué et placement de (2.38 - (-0.5 * 100) = 52.38) dans l'actif sans risque."
   ]
  },
  {
   "cell_type": "code",
   "execution_count": 41,
   "id": "a54c2ca3",
   "metadata": {},
   "outputs": [],
   "source": [
    "def CallPutParity(K, S0, r) :\n",
    "    P = S0-K*(1/(1+r)) # parité call-put pour la date 0\n",
    "    print('CallPrice - PutPrice = ', P) \n",
    "    if P>0 :\n",
    "        print('Le call est sur-évalué par rapport au put sur le même sous-jacent.')\n",
    "        print('Il sera dont profitable d\\'acheter un put.')\n",
    "    elif P<0 :\n",
    "        print('Le call est sous-évalué par rapport au put sur le même sous-jacent.')\n",
    "        print('Il sera dont profitable d\\'acheter un call.')\n",
    "    else :\n",
    "        print('Le call et le put ont le même prix!')\n",
    "    return 0"
   ]
  },
  {
   "cell_type": "code",
   "execution_count": 35,
   "id": "179aa654",
   "metadata": {},
   "outputs": [
    {
     "data": {
      "text/plain": [
       "dict_keys(['Premiums', 'Call.Duplication.Portfolio', 'Put.Duplication.Portfolio'])"
      ]
     },
     "execution_count": 35,
     "metadata": {},
     "output_type": "execute_result"
    }
   ],
   "source": [
    "Prices_And_Portfolios.keys()"
   ]
  },
  {
   "cell_type": "code",
   "execution_count": 36,
   "id": "660529eb",
   "metadata": {},
   "outputs": [
    {
     "data": {
      "text/plain": [
       "dict_values([{'Call.Price': 7.142857142857152, 'Put.Price': 2.380952380952382}, {'Initial.Capital': 7.142857142857152, 'Risqued.Asset.Quantity': 0.5000000000000006}, {'Initial.Capital': 2.380952380952382, 'Risqued.Asset.Quantity': -0.49999999999999983}])"
      ]
     },
     "execution_count": 36,
     "metadata": {},
     "output_type": "execute_result"
    }
   ],
   "source": [
    "Prices_And_Portfolios.values()"
   ]
  },
  {
   "cell_type": "code",
   "execution_count": 42,
   "id": "a69ba63a",
   "metadata": {},
   "outputs": [
    {
     "name": "stdout",
     "output_type": "stream",
     "text": [
      "CallPrice - PutPrice =  4.761904761904773\n",
      "Le call est sur-évalué par rapport au put sur le même sous-jacent.\n",
      "Il sera dont profitable d'acheter un put.\n"
     ]
    }
   ],
   "source": [
    "P=CallPutParity(100, 100, 0.05)"
   ]
  },
  {
   "cell_type": "code",
   "execution_count": 40,
   "id": "1e70b3fe",
   "metadata": {},
   "outputs": [
    {
     "name": "stdout",
     "output_type": "stream",
     "text": [
      "CallPrice - PutPrice =  4.76190476190477\n"
     ]
    }
   ],
   "source": [
    "# Confirmation du résultat\n",
    "P = Prices_And_Portfolios['Premiums']['Call.Price'] - Prices_And_Portfolios['Premiums']['Put.Price']\n",
    "print('CallPrice - PutPrice = ', P )"
   ]
  }
 ],
 "metadata": {
  "kernelspec": {
   "display_name": "Python 3 (ipykernel)",
   "language": "python",
   "name": "python3"
  },
  "language_info": {
   "codemirror_mode": {
    "name": "ipython",
    "version": 3
   },
   "file_extension": ".py",
   "mimetype": "text/x-python",
   "name": "python",
   "nbconvert_exporter": "python",
   "pygments_lexer": "ipython3",
   "version": "3.9.13"
  }
 },
 "nbformat": 4,
 "nbformat_minor": 5
}
